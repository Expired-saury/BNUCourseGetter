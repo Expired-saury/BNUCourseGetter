{
  "cells": [
    {
      "cell_type": "markdown",
      "metadata": {
        "id": "view-in-github",
        "colab_type": "text"
      },
      "source": [
        "<a href=\"https://colab.research.google.com/github/Expired-saury/BNUCourseGetter/blob/main/af/design.ipynb\" target=\"_parent\"><img src=\"https://colab.research.google.com/assets/colab-badge.svg\" alt=\"Open In Colab\"/></a>"
      ]
    },
    {
      "cell_type": "markdown",
      "metadata": {
        "id": "OA2k3sAYuiXe"
      },
      "source": [
        "#AfDesign (v1.1.1)\n",
        "Backprop through AlphaFold for protein design.\n",
        "\n",
        "**WARNING**\n",
        "1.   This notebook is in active development and was designed for demonstration purposes only.\n",
        "2.   Using AfDesign as the only \"loss\" function for design might be a bad idea, you may find adversarial sequences (aka. sequences that trick AlphaFold)."
      ]
    },
    {
      "cell_type": "code",
      "execution_count": 2,
      "metadata": {
        "id": "-AXy0s_4cKaK",
        "outputId": "4ab51360-7bac-46e2-80d8-f18a658bbca0",
        "colab": {
          "base_uri": "https://localhost:8080/"
        }
      },
      "outputs": [
        {
          "output_type": "stream",
          "name": "stdout",
          "text": [
            "CPU times: user 1.2 s, sys: 135 ms, total: 1.34 s\n",
            "Wall time: 1min 56s\n"
          ]
        }
      ],
      "source": [
        "#@title setup\n",
        "%%time\n",
        "import os\n",
        "if not os.path.isdir(\"params\"):\n",
        "  # get code\n",
        "  os.system(\"pip -q install git+https://github.com/sokrypton/ColabDesign.git@v1.1.1\")\n",
        "  # for debugging\n",
        "  os.system(\"ln -s /usr/local/lib/python3.*/dist-packages/colabdesign colabdesign\")\n",
        "  # download params\n",
        "  os.system(\"mkdir params\")\n",
        "  os.system(\"apt-get install aria2 -qq\")\n",
        "  os.system(\"aria2c -q -x 16 https://storage.googleapis.com/alphafold/alphafold_params_2022-12-06.tar\")\n",
        "  os.system(\"tar -xf alphafold_params_2022-12-06.tar -C params\")\n",
        "\n",
        "import warnings\n",
        "warnings.simplefilter(action='ignore', category=FutureWarning)\n",
        "\n",
        "import os\n",
        "from colabdesign import mk_afdesign_model, clear_mem\n",
        "from IPython.display import HTML\n",
        "from google.colab import files\n",
        "import numpy as np\n",
        "\n",
        "def get_pdb(pdb_code=\"\"):\n",
        "  if pdb_code is None or pdb_code == \"\":\n",
        "    upload_dict = files.upload()\n",
        "    pdb_string = upload_dict[list(upload_dict.keys())[0]]\n",
        "    with open(\"tmp.pdb\",\"wb\") as out: out.write(pdb_string)\n",
        "    return \"tmp.pdb\"\n",
        "  elif os.path.isfile(pdb_code):\n",
        "    return pdb_code\n",
        "  elif len(pdb_code) == 4:\n",
        "    os.system(f\"wget -qnc https://files.rcsb.org/view/{pdb_code}.pdb\")\n",
        "    return f\"{pdb_code}.pdb\"\n",
        "  else:\n",
        "    os.system(f\"wget -qnc https://alphafold.ebi.ac.uk/files/AF-{pdb_code}-F1-model_v3.pdb\")\n",
        "    return f\"AF-{pdb_code}-F1-model_v3.pdb\""
      ]
    },
    {
      "cell_type": "code",
      "source": [
        "# 测试导入是否成功\n",
        "try:\n",
        "    from colabdesign import mk_afdesign_model\n",
        "    print(\"✓ ColabDesign导入成功\")\n",
        "\n",
        "    # 测试创建模型\n",
        "    test_model = mk_afdesign_model(protocol=\"fixbb\")\n",
        "    print(\"✓ 模型创建成功\")\n",
        "\n",
        "    # 查看可用的协议\n",
        "    print(\"\\n可用的设计协议：\")\n",
        "    print(\"- fixbb: 固定骨架设计\")\n",
        "    print(\"- hallucination: 从头设计\")\n",
        "    print(\"- partial: 部分序列设计（适合linker）\")\n",
        "\n",
        "except Exception as e:\n",
        "    print(f\"✗ 错误: {e}\")"
      ],
      "metadata": {
        "id": "CHCH6ZEEGGVh",
        "outputId": "ce31852d-e338-4209-cc42-1e5796691d20",
        "colab": {
          "base_uri": "https://localhost:8080/"
        }
      },
      "execution_count": 3,
      "outputs": [
        {
          "output_type": "stream",
          "name": "stdout",
          "text": [
            "✓ ColabDesign导入成功\n",
            "✓ 模型创建成功\n",
            "\n",
            "可用的设计协议：\n",
            "- fixbb: 固定骨架设计\n",
            "- hallucination: 从头设计\n",
            "- partial: 部分序列设计（适合linker）\n"
          ]
        }
      ]
    },
    {
      "cell_type": "markdown",
      "metadata": {
        "id": "UUfKrOzT0gOS"
      },
      "source": [
        "# fixed backbone design (fixbb)\n",
        "For a given protein backbone, generate/design a new sequence that AlphaFold thinks folds into that conformation."
      ]
    },
    {
      "cell_type": "code",
      "execution_count": null,
      "metadata": {
        "id": "qLd1DsnKzxBJ"
      },
      "outputs": [],
      "source": [
        "clear_mem()\n",
        "af_model = mk_afdesign_model(protocol=\"fixbb\")\n",
        "af_model.prep_inputs(pdb_filename=get_pdb(\"1TEN\"), chain=\"A\")\n",
        "\n",
        "print(\"length\",  af_model._len)\n",
        "print(\"weights\", af_model.opt[\"weights\"])"
      ]
    },
    {
      "cell_type": "code",
      "source": [
        "af_model.restart()\n",
        "af_model.design_3stage()"
      ],
      "metadata": {
        "id": "u0AwskJ84NGx"
      },
      "execution_count": null,
      "outputs": []
    },
    {
      "cell_type": "code",
      "source": [
        "af_model.plot_traj()"
      ],
      "metadata": {
        "id": "8FB1v7dn1LL6"
      },
      "execution_count": null,
      "outputs": []
    },
    {
      "cell_type": "code",
      "execution_count": null,
      "metadata": {
        "id": "YEApO8YzBoS0"
      },
      "outputs": [],
      "source": [
        "af_model.save_pdb(f\"{af_model.protocol}.pdb\")\n",
        "af_model.plot_pdb()"
      ]
    },
    {
      "cell_type": "code",
      "execution_count": null,
      "metadata": {
        "id": "cW1KQiHKJpfp"
      },
      "outputs": [],
      "source": [
        "HTML(af_model.animate())"
      ]
    },
    {
      "cell_type": "code",
      "source": [
        "af_model.get_seqs()"
      ],
      "metadata": {
        "id": "YDrChASGVUUx"
      },
      "execution_count": null,
      "outputs": []
    },
    {
      "cell_type": "markdown",
      "source": [
        "# hallucination\n",
        "For a given length, generate/hallucinate a protein sequence that AlphaFold thinks folds into a well structured protein (high plddt, low pae, many contacts)."
      ],
      "metadata": {
        "id": "qLwS2s_xcjRI"
      }
    },
    {
      "cell_type": "code",
      "execution_count": null,
      "metadata": {
        "id": "sZnYfCbfEvol"
      },
      "outputs": [],
      "source": [
        "clear_mem()\n",
        "af_model = mk_afdesign_model(protocol=\"hallucination\")\n",
        "af_model.prep_inputs(length=100)\n",
        "\n",
        "print(\"length\",af_model._len)\n",
        "print(\"weights\",af_model.opt[\"weights\"])"
      ]
    },
    {
      "cell_type": "code",
      "source": [
        "# pre-design with gumbel initialization and softmax activation\n",
        "af_model.restart(mode=\"gumbel\")\n",
        "af_model.design_soft(50)\n",
        "\n",
        "# three stage design\n",
        "af_model.set_seq(af_model.aux[\"seq\"][\"pseudo\"])\n",
        "af_model.design_3stage(50,50,10)"
      ],
      "metadata": {
        "id": "f76xqCkw0vj9"
      },
      "execution_count": null,
      "outputs": []
    },
    {
      "cell_type": "code",
      "execution_count": null,
      "metadata": {
        "id": "A1GxeLZdTTya"
      },
      "outputs": [],
      "source": [
        "af_model.save_pdb(f\"{af_model.protocol}.pdb\")\n",
        "af_model.plot_pdb()"
      ]
    },
    {
      "cell_type": "code",
      "execution_count": null,
      "metadata": {
        "id": "L2E9Tn2Acchj"
      },
      "outputs": [],
      "source": [
        "HTML(af_model.animate())"
      ]
    },
    {
      "cell_type": "code",
      "execution_count": null,
      "metadata": {
        "id": "YSKWYu0_GlUH"
      },
      "outputs": [],
      "source": [
        "af_model.get_seqs()"
      ]
    },
    {
      "cell_type": "markdown",
      "metadata": {
        "id": "dXfm4B8ISLuL"
      },
      "source": [
        "# binder hallucination\n",
        "For a given protein target and protein binder length, generate/hallucinate a protein binder sequence AlphaFold thinks will bind to the target structure.\n",
        "To do this, we minimize PAE and maximize number of contacts at the interface and within the binder, and we maximize pLDDT of the binder.\n",
        "By default, AlphaFold-ptm with residue index offset hack is used. To enable AlphaFold-multimer set: mk_afdesign_model(use_multimer=True).\n"
      ]
    },
    {
      "cell_type": "code",
      "execution_count": null,
      "metadata": {
        "id": "3XLJPiRKx5Mw"
      },
      "outputs": [],
      "source": [
        "clear_mem()\n",
        "af_model = mk_afdesign_model(protocol=\"binder\")\n",
        "af_model.prep_inputs(pdb_filename=get_pdb(\"4MZK\"), chain=\"A\", binder_len=19)\n",
        "\n",
        "print(\"target_length\",af_model._target_len)\n",
        "print(\"binder_length\",af_model._binder_len)\n",
        "print(\"weights\",af_model.opt[\"weights\"])"
      ]
    },
    {
      "cell_type": "code",
      "execution_count": null,
      "metadata": {
        "id": "u6VxjuinyCZa"
      },
      "outputs": [],
      "source": [
        "af_model.restart()\n",
        "af_model.design_3stage(100,100,10)"
      ]
    },
    {
      "cell_type": "code",
      "source": [
        "af_model.save_pdb(f\"{af_model.protocol}.pdb\")\n",
        "af_model.plot_pdb()"
      ],
      "metadata": {
        "id": "sTlS7_L8Zfwf"
      },
      "execution_count": null,
      "outputs": []
    },
    {
      "cell_type": "code",
      "execution_count": null,
      "metadata": {
        "id": "9cARoviGyIKb"
      },
      "outputs": [],
      "source": [
        "HTML(af_model.animate())"
      ]
    },
    {
      "cell_type": "code",
      "source": [
        "af_model.get_seqs()"
      ],
      "metadata": {
        "id": "RzE137NDZdZc"
      },
      "execution_count": null,
      "outputs": []
    },
    {
      "cell_type": "markdown",
      "source": [
        "#**ADVANCED**"
      ],
      "metadata": {
        "id": "SK0IJLoen_EC"
      }
    },
    {
      "cell_type": "markdown",
      "source": [
        "## partial hallucination + custom Radius of Gyration (rg) loss\n",
        "mix supervised (fixbb) and unsupervised (hallucination) losses to constrain the halluciation process."
      ],
      "metadata": {
        "id": "zl6JGTUzXRnk"
      }
    },
    {
      "cell_type": "code",
      "source": [
        "import jax\n",
        "import jax.numpy as jnp\n",
        "from colabdesign.af.alphafold.common import residue_constants\n",
        "\n",
        "# first off, let's implement a custom Radius of Gyration loss function\n",
        "def rg_loss(inputs, outputs):\n",
        "  positions = outputs[\"structure_module\"][\"final_atom_positions\"]\n",
        "  ca = positions[:,residue_constants.atom_order[\"CA\"]]\n",
        "  center = ca.mean(0)\n",
        "  rg = jnp.sqrt(jnp.square(ca - center).sum(-1).mean() + 1e-8)\n",
        "  rg_th = 2.38 * ca.shape[0] ** 0.365\n",
        "  rg = jax.nn.elu(rg - rg_th)\n",
        "  return {\"rg\":rg}"
      ],
      "metadata": {
        "id": "spec3m8BlGer"
      },
      "execution_count": 4,
      "outputs": []
    },
    {
      "cell_type": "code",
      "source": [
        "clear_mem()\n",
        "af_model = mk_afdesign_model(protocol=\"partial\",\n",
        "                             loss_callback=rg_loss, # add rg_loss\n",
        "                             use_templates=False)   # set True to constrain positions using template input\n",
        "\n",
        "af_model.opt[\"weights\"][\"rg\"] = 0.1  # optional: specify weight for rg_loss\n",
        "\n",
        "# 定义你的蛋白\n",
        "protein1 = \"MKTVRQERLKSIVRILERSKEPVSGAQ\"\n",
        "protein2 = \"MASMTGGQQMGRDPNSSDLAAQRMKDAG\"\n",
        "\n",
        "# 设定想要的linker长度，用占位符填充\n",
        "desired_linker_length = 15  # 你想要的长度\n",
        "initial_linker = \"G\" * desired_linker_length  # 全是G作为起始\n",
        "\n",
        "# 合并\n",
        "full_sequence = protein1 + initial_linker + protein2\n",
        "\n",
        "# 准备输入\n",
        "linker_start = len(protein1)\n",
        "linker_end = linker_start + desired_linker_length\n",
        "\n",
        "af_model.prep_inputs(\n",
        "    length=len(full_sequence),\n",
        "    pos=f\"{linker_start}-{linker_end}\"  # 这个区域会被完全重新设计\n",
        ")\n",
        "af_model.rewire(loops=[36]) # set loop length between segments"
      ],
      "metadata": {
        "id": "h_BvzwbAKo6V",
        "outputId": "3385db13-164e-42b9-fcb1-8a54624e91e5",
        "colab": {
          "base_uri": "https://localhost:8080/",
          "height": 211
        }
      },
      "execution_count": 5,
      "outputs": [
        {
          "output_type": "error",
          "ename": "TypeError",
          "evalue": "_af_prep._prep_partial() missing 1 required positional argument: 'pdb_filename'",
          "traceback": [
            "\u001b[0;31m---------------------------------------------------------------------------\u001b[0m",
            "\u001b[0;31mTypeError\u001b[0m                                 Traceback (most recent call last)",
            "\u001b[0;32m/tmp/ipython-input-916638793.py\u001b[0m in \u001b[0;36m<cell line: 0>\u001b[0;34m()\u001b[0m\n\u001b[1;32m     21\u001b[0m \u001b[0mlinker_end\u001b[0m \u001b[0;34m=\u001b[0m \u001b[0mlinker_start\u001b[0m \u001b[0;34m+\u001b[0m \u001b[0mdesired_linker_length\u001b[0m\u001b[0;34m\u001b[0m\u001b[0;34m\u001b[0m\u001b[0m\n\u001b[1;32m     22\u001b[0m \u001b[0;34m\u001b[0m\u001b[0m\n\u001b[0;32m---> 23\u001b[0;31m af_model.prep_inputs(\n\u001b[0m\u001b[1;32m     24\u001b[0m     \u001b[0mlength\u001b[0m\u001b[0;34m=\u001b[0m\u001b[0mlen\u001b[0m\u001b[0;34m(\u001b[0m\u001b[0mfull_sequence\u001b[0m\u001b[0;34m)\u001b[0m\u001b[0;34m,\u001b[0m\u001b[0;34m\u001b[0m\u001b[0;34m\u001b[0m\u001b[0m\n\u001b[1;32m     25\u001b[0m     \u001b[0mpos\u001b[0m\u001b[0;34m=\u001b[0m\u001b[0;34mf\"{linker_start}-{linker_end}\"\u001b[0m  \u001b[0;31m# 这个区域会被完全重新设计\u001b[0m\u001b[0;34m\u001b[0m\u001b[0;34m\u001b[0m\u001b[0m\n",
            "\u001b[0;31mTypeError\u001b[0m: _af_prep._prep_partial() missing 1 required positional argument: 'pdb_filename'"
          ]
        }
      ]
    },
    {
      "cell_type": "code",
      "source": [
        "# initialize with wildtype seq, fill in the rest with soft_gumbel distribution\n",
        "af_model.restart(mode=[\"soft\",\"gumbel\",\"wildtype\"])\n",
        "af_model.design_3stage(100, 100, 10)"
      ],
      "metadata": {
        "id": "5Unr9u2GYKRD"
      },
      "execution_count": null,
      "outputs": []
    },
    {
      "cell_type": "code",
      "source": [
        "af_model.save_pdb(f\"{af_model.protocol}.pdb\")\n",
        "af_model.plot_pdb()"
      ],
      "metadata": {
        "id": "BFweaqNWYuF0"
      },
      "execution_count": null,
      "outputs": []
    },
    {
      "cell_type": "code",
      "source": [
        "HTML(af_model.animate())"
      ],
      "metadata": {
        "id": "GSu2lB9HYw-t"
      },
      "execution_count": null,
      "outputs": []
    },
    {
      "cell_type": "code",
      "source": [
        "af_model.get_seqs()"
      ],
      "metadata": {
        "id": "2EG2t2_KY4Td"
      },
      "execution_count": null,
      "outputs": []
    }
  ],
  "metadata": {
    "accelerator": "GPU",
    "colab": {
      "collapsed_sections": [
        "q4qiU9I0QHSz"
      ],
      "name": "design.ipynb",
      "provenance": [],
      "include_colab_link": true
    },
    "kernelspec": {
      "display_name": "Python 3",
      "name": "python3"
    },
    "language_info": {
      "name": "python"
    }
  },
  "nbformat": 4,
  "nbformat_minor": 0
}